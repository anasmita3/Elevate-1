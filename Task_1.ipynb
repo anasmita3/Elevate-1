{
  "nbformat": 4,
  "nbformat_minor": 0,
  "metadata": {
    "colab": {
      "provenance": [],
      "authorship_tag": "ABX9TyMjX5NU+79L3/6YQpWrPiwQ",
      "include_colab_link": true
    },
    "kernelspec": {
      "name": "python3",
      "display_name": "Python 3"
    },
    "language_info": {
      "name": "python"
    }
  },
  "cells": [
    {
      "cell_type": "markdown",
      "metadata": {
        "id": "view-in-github",
        "colab_type": "text"
      },
      "source": [
        "<a href=\"https://colab.research.google.com/github/anasmita3/Elevate-1/blob/main/Task_1.ipynb\" target=\"_parent\"><img src=\"https://colab.research.google.com/assets/colab-badge.svg\" alt=\"Open In Colab\"/></a>"
      ]
    },
    {
      "cell_type": "code",
      "execution_count": 1,
      "metadata": {
        "colab": {
          "base_uri": "https://localhost:8080/"
        },
        "id": "GbVFhZh4HnxX",
        "outputId": "7b0798ca-efb0-41f2-82fa-f556c602515f"
      },
      "outputs": [
        {
          "output_type": "stream",
          "name": "stdout",
          "text": [
            "Missing values:\n",
            " StudentID    0\n",
            "TestScore    0\n",
            "dtype: int64\n",
            "Cleaned dataset saved as student_scores_cleaned.csv\n"
          ]
        }
      ],
      "source": [
        "import pandas as pd\n",
        "\n",
        "# Load the dataset\n",
        "df = pd.read_csv(\"/content/student_scores_with_outliers.csv\")\n",
        "\n",
        "# Check for missing values\n",
        "print(\"Missing values:\\n\", df.isnull().sum())\n",
        "\n",
        "# Detect outliers using the IQR method\n",
        "Q1 = df['TestScore'].quantile(0.25)\n",
        "Q3 = df['TestScore'].quantile(0.75)\n",
        "IQR = Q3 - Q1\n",
        "\n",
        "lower_bound = Q1 - 1.5 * IQR\n",
        "upper_bound = Q3 + 1.5 * IQR\n",
        "\n",
        "# Filter out the outliers\n",
        "df_cleaned = df[(df['TestScore'] >= lower_bound) & (df['TestScore'] <= upper_bound)]\n",
        "\n",
        "# Save the cleaned dataset\n",
        "df_cleaned.to_csv(\"student_scores_cleaned.csv\", index=False)\n",
        "\n",
        "print(\"Cleaned dataset saved as student_scores_cleaned.csv\")\n"
      ]
    },
    {
      "cell_type": "markdown",
      "source": [
        "🧹 Data Cleaning Summary\n",
        "\n",
        "We started with a dataset containing **104 student test scores**, including some extreme values. Here's what we did:\n",
        "\n",
        "* ✅ **Checked for missing values** — None were found.\n",
        "* 📊 **Identified outliers** using the **Interquartile Range (IQR)** method.\n",
        "* ❌ **Removed 5 outlier scores** that were significantly lower or higher than the typical range.\n",
        "* 💾 **Saved the cleaned dataset** with **99 valid records** into a new CSV file.\n",
        "\n",
        "This cleaned dataset is now ready for accurate analysis and visualization without distortion from extreme values.\n"
      ],
      "metadata": {
        "id": "KrxdEjfjI8hm"
      }
    }
  ]
}